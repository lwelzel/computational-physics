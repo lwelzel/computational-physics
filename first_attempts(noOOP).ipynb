{
 "cells": [
  {
   "cell_type": "code",
   "execution_count": null,
   "id": "9e8a883e",
   "metadata": {},
   "outputs": [],
   "source": [
    "import numpy as np\n",
    "\n",
    "L=10\n",
    "\n",
    "particle1_pos=L*np.rand(2)\n",
    "particle1_vel=L*np.rand(2)\n",
    "particle2_pos=L*np.rand(2)\n",
    "particle2_vel=L*np.rand(2)\n",
    "particle3_pos=L*np.rand(2)\n",
    "particle3_vel=L*np.rand(2)\n",
    "\n",
    "pos=[particle1_pos, particle2_pos, particle3_pos]\n",
    "vel=[particle1_vel, particle2_vel, particle3_vel]"
   ]
  },
  {
   "cell_type": "code",
   "execution_count": null,
   "id": "392176ba",
   "metadata": {},
   "outputs": [],
   "source": [
    "def step(particle_pos, particle_vel):\n",
    "    pot=calc_potential(particle_pos)"
   ]
  },
  {
   "cell_type": "code",
   "execution_count": null,
   "id": "3da7c491",
   "metadata": {},
   "outputs": [],
   "source": [
    "def calc_potential(particle_pos):\n",
    "    for curr_part in pos:\n",
    "        r=find_shortest(curr_part, particle_pos)"
   ]
  },
  {
   "cell_type": "code",
   "execution_count": null,
   "id": "dfb840ac",
   "metadata": {},
   "outputs": [],
   "source": [
    "def find_shortest(curr_part, particle_pos):\n",
    "    minr=\n",
    "    for change_x in [0, -L, L]:\n",
    "        for change_y in [0, -L, L]:\n",
    "            test=np.array([curr_part[0]+change_x, curr_part[1]+change_y])\n",
    "                    "
   ]
  },
  {
   "cell_type": "code",
   "execution_count": null,
   "id": "a9409a24",
   "metadata": {},
   "outputs": [],
   "source": [
    "def radius(pos1, pos2)\n",
    "    r=np.sqrt((pos1[0]-pos2[0])**2 + (pos1[0]-pos2[0])**2)"
   ]
  }
 ],
 "metadata": {
  "kernelspec": {
   "display_name": "Python 3 (ipykernel)",
   "language": "python",
   "name": "python3"
  },
  "language_info": {
   "codemirror_mode": {
    "name": "ipython",
    "version": 3
   },
   "file_extension": ".py",
   "mimetype": "text/x-python",
   "name": "python",
   "nbconvert_exporter": "python",
   "pygments_lexer": "ipython3",
   "version": "3.9.7"
  }
 },
 "nbformat": 4,
 "nbformat_minor": 5
}
